{
 "cells": [
  {
   "cell_type": "code",
   "execution_count": 1,
   "metadata": {},
   "outputs": [
    {
     "name": "stderr",
     "output_type": "stream",
     "text": [
      "/var/folders/dj/9l55bm1s047crb4scq4r44vh0000gn/T/ipykernel_51116/3699643535.py:10: TqdmExperimentalWarning: Using `tqdm.autonotebook.tqdm` in notebook mode. Use `tqdm.tqdm` instead to force console mode (e.g. in jupyter console)\n",
      "  from tqdm.autonotebook import tqdm\n"
     ]
    }
   ],
   "source": [
    "import jax\n",
    "import jax.numpy as jnp\n",
    "import matplotlib.pyplot as plt\n",
    "import diffrax\n",
    "from diffrax import diffeqsolve, Dopri5, ODETerm, SaveAt, PIDController\n",
    "import equinox as eqx\n",
    "import optax\n",
    "from typing import Callable, List\n",
    "import scipy\n",
    "from tqdm.autonotebook import tqdm\n",
    "from models.fno_model import FNO1d\n",
    "from jax import random\n",
    "from scipy.integrate import solve_ivp\n",
    "import numpy as np\n"
   ]
  },
  {
   "cell_type": "code",
   "execution_count": 2,
   "metadata": {},
   "outputs": [],
   "source": [
    "\n",
    "def create_noise(r_min, r_max, num_steps_r, f_min, f_max, num_steps_f, key):  #frequency noch rein\n",
    "    N_r = int(num_steps_r)\n",
    "    N_f = int(num_steps_f)\n",
    "\n",
    "    r = jnp.linspace(r_min, r_max, N_r) \n",
    "    f = jnp.linspace(f_min, f_max, N_f) \n",
    "\n",
    "    #create noise \n",
    "    amplitude = 1e2\n",
    "\n",
    "    # Frequencies: cycles per unit length\n",
    "    k = jnp.fft.fftfreq(N_r, d=amplitude*(r_max - r_min)/ N_r)   # im Skript aus dem ich das habe ist statt r_max-r_min einfach L und r geht von 0 bis L -> passt das trotzdem?\n",
    "\n",
    "    # Desired frequency peak and spread\n",
    "    f0 = 0.05           # Peak frequency in 1/m\n",
    "    sigma = 0.05       # Spread in frequency\n",
    "\n",
    "\n",
    "    # Build power spectrum: symmetric Gaussian around ±f0\n",
    "    P = jnp.exp(-0.5 * ((k - f0) / sigma)**2) + jnp.exp(-0.5 * ((k + f0) / sigma)**2)\n",
    "\n",
    "    # Random phases only for positive frequencies\n",
    "    random_phases = jnp.exp(2j * jnp.pi * random.uniform(key, (N_f, N_r)))\n",
    "    \n",
    "\n",
    "    # Fourier coefficients: amplitude * phase\n",
    "    fourier_noise = jnp.sqrt(P) * random_phases\n",
    "\n",
    "    # Hermitian symmetry (for real IFFT)\n",
    "    # Set DC and Nyquist real\n",
    "    fourier_noise = fourier_noise.at[:,0].set(0)\n",
    "    fourier_noise = fourier_noise.at[:, N_r//2].set(fourier_noise[:, N_r//2].real)\n",
    "\n",
    "    # Mirror positive frequencies to negative frequencies\n",
    "    for i in range(1, N_r//2):\n",
    "        fourier_noise = fourier_noise.at[:, -i].set(jnp.conj(fourier_noise[:, i]))\n",
    "\n",
    "    # Inverse FFT to real space\n",
    "    noise = jnp.fft.ifft(fourier_noise).real * 500\n",
    "    return noise\n",
    "\n",
    "\n",
    "def create_a(r_min, r_max, num_steps_r, f_min, f_max, num_steps_f, K, p):\n",
    "    N_r = int(num_steps_r)\n",
    "    N_f = int(num_steps_f)\n",
    "    r = jnp.linspace(r_min, r_max, N_r) \n",
    "    f = jnp.linspace(f_min, f_max, N_f) \n",
    "    R, F = jnp.meshgrid(r, f)   # this results in an output where each row is for constant frequency (same as in create_j)\n",
    "    return K*R**p   #frequency dependence noch reinbringen -> alternative K und p abhägnig von Frequenz machen und \n",
    "    # evtl wie bei create noise zwei mal vmappen, einmal um  pro frequency verschiede a = Kr**p zu bekommen und dann nochmal für \n",
    "    # mehrere Trainingsdaten (d.h. K und p sind dann zweidimensionale inputs und nicht wie jetzt 1-D arrays)\n",
    "\n",
    "  \n",
    "def create_j(r_min, r_max, num_steps_r, f_min, f_max, num_steps_f, j_start):\n",
    "    N_r = int(num_steps_r)\n",
    "    N_f = int(num_steps_f)\n",
    "    r = jnp.linspace(r_min, r_max, N_r) \n",
    "    f = jnp.linspace(f_min, f_max, N_f) \n",
    "    j = jnp.zeros((num_steps_f, num_steps_r))\n",
    "    j = j.at[:,0].set(j_start)\n",
    "    return j\n",
    "\n",
    "\n",
    "create_noise_vmap = jax.vmap(create_noise, in_axes=(None, None, None, None, None, None, 0)) \n",
    "create_a_vmap = jax.vmap(create_a, in_axes=(None, None, None, None, None, None, 0, 0)) \n",
    "create_j_vmap = jax.vmap(create_j, in_axes=(None, None, None, None, None, None, 0)) "
   ]
  },
  {
   "cell_type": "code",
   "execution_count": 3,
   "metadata": {},
   "outputs": [],
   "source": [
    "# Testing\n",
    "\n",
    "#js = jnp.ones(10)\n",
    "#result = create_j_vmap(0.1, 1.0, 2000, 1.0, 2.0, 10, js)\n",
    "#\n",
    "#Ks = jnp.ones(10)\n",
    "#ps = jnp.ones(10)\n",
    "#result2 = create_a_vmap(0.1, 1.0, 2000, 1.0, 2.0, 10, Ks, ps)\n",
    "#\n",
    "#key = random.PRNGKey(0)\n",
    "#keys = random.split(key, 10)\n",
    "#result3 = create_noise_vmap(0.1, 1.0, 2000, 1.0, 2.0, 10, keys)\n"
   ]
  },
  {
   "cell_type": "code",
   "execution_count": 4,
   "metadata": {},
   "outputs": [],
   "source": [
    "# So far we've got fuctions to create a(f,r) + e(f,r) and j(f,r), now we need to compute I(r,f) from them"
   ]
  },
  {
   "cell_type": "code",
   "execution_count": 14,
   "metadata": {},
   "outputs": [],
   "source": [
    "def determine_I_single_f(r_min, r_max, num_steps_r, a, j):\n",
    "    # vllt noch implementieren, dass gecheckt, dass a,e,j auf gleichem Intervall und mit gleicher Anzahl steps definiert\n",
    "    N_r = int(num_steps_r)\n",
    "    r_lin = jnp.linspace(r_min, r_max, N_r) \n",
    "\n",
    "    dr = r_lin[1] - r_lin[0]\n",
    "\n",
    "    def f(r, I):\n",
    "        a_value = jnp.maximum(a[int(r//dr - r_lin[0]//dr)], 0) # a below 0 is not possible\n",
    "        j_value = jnp.maximum(j[int(r//dr - r_lin[0]//dr)], 0) # j below 0 is not possible\n",
    "        #print(a, j)\n",
    "        if r == r_lin[0]:\n",
    "            return -(a_value/2 + 1/r)*I + j_value/2\n",
    "        else:\n",
    "            return -(a_value/2 + 1/r)*I\n",
    "        \n",
    "    def rk4_step(r, I, dr):\n",
    "        k1 = f(r, I)\n",
    "        k2 = f(r + dr / 2, I + dr / 2 * k1)\n",
    "        k3 = f(r + dr / 2, I + dr / 2 * k2)\n",
    "        k4 = f(r + dr, I + dr * k3)\n",
    "        \n",
    "        return I + (dr / 6) * (k1 + 2*k2 + 2*k3 + k4)\n",
    "\n",
    "    I = jnp.zeros(N_r//2)\n",
    "    I = I.at[0].set(1.)  \n",
    "\n",
    "\n",
    "    for i in range(int(N_r//2 - 1)):\n",
    "        I = I.at[i + 1].set(rk4_step( r_lin[2*i], I[i], 2*dr))\n",
    "\n",
    "    return I \n",
    "\n",
    "\n",
    "determine_I_single = jax.vmap(determine_I_single_f, in_axes=(None, None, None, 0, 0))\n",
    "\n",
    "\n",
    "def determine_I(r_min, r_max, num_steps_r, a, j):\n",
    "    return determine_I_single(r_min, r_max, num_steps_r, a, j)\n",
    "\n",
    "determine_I = jax.vmap(determine_I_single, in_axes=(None, None, None, 0, 0))\n"
   ]
  },
  {
   "cell_type": "code",
   "execution_count": 16,
   "metadata": {},
   "outputs": [
    {
     "data": {
      "text/plain": [
       "[<matplotlib.lines.Line2D at 0x169970150>]"
      ]
     },
     "execution_count": 16,
     "metadata": {},
     "output_type": "execute_result"
    },
    {
     "data": {
      "image/png": "[encoded data removed]",
      "text/plain": [
       "<Figure size 640x480 with 1 Axes>"
      ]
     },
     "metadata": {},
     "output_type": "display_data"
    }
   ],
   "source": [
    "# noch testen, ob die I-Funktionen alle richtig funktionieren (also ob aufeinanderfolgende unterschiedlich und ob richtige Lösung bspw wenn  a und j einfach überall 1 und else term auch j enthält wie if)"
   ]
  },
  {
   "cell_type": "code",
   "execution_count": 7,
   "metadata": {},
   "outputs": [],
   "source": [
    "# together in create data function"
   ]
  },
  {
   "cell_type": "code",
   "execution_count": 31,
   "metadata": {},
   "outputs": [],
   "source": [
    "def create_data(r_min, r_max, num_steps_r, f_min, f_max, num_steps_f, key, num_samples):\n",
    "    # die ganzen noch mit einem key random in trainingsrange erzeugen - key vorher schon splitten und dann ersten 3 teile für das folgende und 4 teil dann bei aufruf noise\n",
    "    keys = random.split(key, 3)\n",
    "    js = random.uniform(keys[0], (num_samples,num_steps_f), minval=0, maxval=100) # -> jetzt gerade frequency dependence random, dass natürlich ändern\n",
    "    Ks = jnp.ones(num_samples)\n",
    "    ps = random.uniform(keys[1], num_samples, minval=-2, maxval=-1)\n",
    "    #js = jnp.ones(num_samples)\n",
    "    #Ks = jnp.ones(num_samples)\n",
    "    #ps = jnp.ones(num_samples)\n",
    "    j_train = create_j_vmap(r_min, r_max, num_steps_r, f_min, f_max, num_steps_f, js)\n",
    "    a_train = create_a_vmap(r_min, r_max, num_steps_r, f_min, f_max, num_steps_f, Ks, ps)\n",
    "    keys_noise = random.split(keys[2], num_samples)\n",
    "    noise_train = create_noise_vmap(r_min, r_max, num_steps_r, f_min, f_max, num_steps_f, keys_noise)\n",
    "\n",
    "    a_noisy_train = a_train + noise_train\n",
    "\n",
    "    I_train = determine_I(r_min, r_max, num_steps_r, a_noisy_train, j_train)\n",
    "\n",
    "    return j_train, a_train, a_noisy_train, I_train\n",
    "    "
   ]
  },
  {
   "cell_type": "code",
   "execution_count": 32,
   "metadata": {},
   "outputs": [],
   "source": [
    "key = random.PRNGKey(0)\n",
    "results = create_data(0.1, 1.0, 2000, 0.1, 1.0, 2000, key, 2)"
   ]
  },
  {
   "cell_type": "code",
   "execution_count": 52,
   "metadata": {},
   "outputs": [
    {
     "data": {
      "text/plain": [
       "Array([[98.33456  , 97.458244 , 96.593605 , ...,  1.0017966,  1.0008978,\n",
       "         1.       ],\n",
       "       [98.33456  , 97.458244 , 96.593605 , ...,  1.0017966,  1.0008978,\n",
       "         1.       ],\n",
       "       [98.33456  , 97.458244 , 96.593605 , ...,  1.0017966,  1.0008978,\n",
       "         1.       ],\n",
       "       ...,\n",
       "       [98.33456  , 97.458244 , 96.593605 , ...,  1.0017966,  1.0008978,\n",
       "         1.       ],\n",
       "       [98.33456  , 97.458244 , 96.593605 , ...,  1.0017966,  1.0008978,\n",
       "         1.       ],\n",
       "       [98.33456  , 97.458244 , 96.593605 , ...,  1.0017966,  1.0008978,\n",
       "         1.       ]], dtype=float32)"
      ]
     },
     "execution_count": 52,
     "metadata": {},
     "output_type": "execute_result"
    }
   ],
   "source": [
    "results[1][0]"
   ]
  },
  {
   "cell_type": "code",
   "execution_count": 53,
   "metadata": {},
   "outputs": [],
   "source": [
    "# noch mit  mit interpolate und ivp solve bzw diffrax. ...\n"
   ]
  },
  {
   "cell_type": "code",
   "execution_count": 10,
   "metadata": {},
   "outputs": [],
   "source": [
    "# umschreiben s.d. jnp statt np"
   ]
  }
 ],
 "metadata": {
  "kernelspec": {
   "display_name": "RadiativeTransferEnv",
   "language": "python",
   "name": "python3"
  },
  "language_info": {
   "codemirror_mode": {
    "name": "ipython",
    "version": 3
   },
   "file_extension": ".py",
   "mimetype": "text/x-python",
   "name": "python",
   "nbconvert_exporter": "python",
   "pygments_lexer": "ipython3",
   "version": "3.11.11"
  }
 },
 "nbformat": 4,
 "nbformat_minor": 2
}
