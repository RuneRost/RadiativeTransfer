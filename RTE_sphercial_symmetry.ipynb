{
 "cells": [
  {
   "cell_type": "code",
   "execution_count": null,
   "metadata": {},
   "outputs": [],
   "source": [
    "import jax.numpy as jnp\n",
    "import matplotlib.pyplot as plt\n",
    "\n",
    "def rte_spherical_symmetry(r,a,j,I0, r0):\n",
    "    return (I0 + j/a + 2*j/a**2 * 1/r0) * r0/(jnp.exp(a/2 * r0)) * jnp.exp(a/2 * r)/r - j/a -2*j/a**2 * 1/r\n",
    " "
   ]
  }
 ],
 "metadata": {
  "language_info": {
   "name": "python"
  }
 },
 "nbformat": 4,
 "nbformat_minor": 2
}
