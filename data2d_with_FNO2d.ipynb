{
 "cells": [
  {
   "cell_type": "code",
   "execution_count": 1,
   "metadata": {},
   "outputs": [
    {
     "name": "stderr",
     "output_type": "stream",
     "text": [
      "/var/folders/dj/9l55bm1s047crb4scq4r44vh0000gn/T/ipykernel_63650/135736572.py:11: TqdmExperimentalWarning: Using `tqdm.autonotebook.tqdm` in notebook mode. Use `tqdm.tqdm` instead to force console mode (e.g. in jupyter console)\n",
      "  from tqdm.autonotebook import tqdm\n"
     ]
    }
   ],
   "source": [
    "import jax\n",
    "import jax.numpy as jnp\n",
    "import equinox as eqx\n",
    "from typing import Callable, List\n",
    "import numpy as np\n",
    "from jax import random\n",
    "import matplotlib.pyplot as plt\n",
    "import equinox as eqx\n",
    "import optax\n",
    "import scipy\n",
    "from tqdm.autonotebook import tqdm"
   ]
  },
  {
   "cell_type": "code",
   "execution_count": 2,
   "metadata": {},
   "outputs": [],
   "source": [
    "# define 2d FNO, I also wrote a file containing those class definitions, which can be used in further applications"
   ]
  },
  {
   "cell_type": "code",
   "execution_count": 3,
   "metadata": {},
   "outputs": [],
   "source": [
    "class SpectralConv2d(eqx.Module):\n",
    "    real_weights: jax.Array\n",
    "    imag_weights: jax.Array\n",
    "    in_channels: int\n",
    "    out_channels: int\n",
    "    modes_x: int\n",
    "    modes_y: int\n",
    "\n",
    "    def __init__(\n",
    "            self,\n",
    "            in_channels,\n",
    "            out_channels,\n",
    "            modes_x,\n",
    "            modes_y,\n",
    "            *,\n",
    "            key,\n",
    "    ):\n",
    "        self.in_channels = in_channels\n",
    "        self.out_channels = out_channels\n",
    "        self.modes_x = modes_x\n",
    "        self.modes_y = modes_y\n",
    "\n",
    "\n",
    "        scale = 1.0 / (in_channels * out_channels)                      # check if this might need change\n",
    "\n",
    "        real_key, imag_key = jax.random.split(key)\n",
    "        self.real_weights = jax.random.uniform(\n",
    "            real_key,\n",
    "            (in_channels, out_channels, modes_x, modes_y),\n",
    "            minval=-scale,\n",
    "            maxval=+scale,\n",
    "        )\n",
    "        self.imag_weights = jax.random.uniform(\n",
    "            imag_key,\n",
    "            (in_channels, out_channels, modes_x, modes_y),\n",
    "            minval=-scale,\n",
    "            maxval=+scale,\n",
    "        )    \n",
    "    def complex_mult2d(\n",
    "            self,\n",
    "            x_hat,\n",
    "            w,\n",
    "    ):\n",
    "        return jnp.einsum(\"iXY,ioXY->oXY\", x_hat, w)  \n",
    "    \n",
    "    def __call__(\n",
    "            self,\n",
    "            x,\n",
    "    ):\n",
    "        channels, spatial_points_x, spatial_points_y = x.shape\n",
    "\n",
    "        x_hat = jnp.fft.rfft2(x)                                            # ergänzen das axis 1 und 2?\n",
    "        x_hat_under_modes = x_hat[:, :self.modes_x, :self.modes_y]\n",
    "        weights = self.real_weights + 1j * self.imag_weights\n",
    "        out_hat_under_modes = self.complex_mult2d(x_hat_under_modes, weights)\n",
    "\n",
    "        out_hat = jnp.zeros(\n",
    "            (self.out_channels, *x_hat.shape[1:]),\n",
    "            dtype=x_hat.dtype\n",
    "        )\n",
    "        \n",
    "        out_hat = out_hat.at[:, :self.modes_x, :self.modes_y].set(out_hat_under_modes)\n",
    "\n",
    "        out = jnp.fft.irfft2(out_hat, s=[spatial_points_x, spatial_points_y])     #previously: n=spatial_points)\n",
    "\n",
    "        return out\n"
   ]
  },
  {
   "cell_type": "code",
   "execution_count": 4,
   "metadata": {},
   "outputs": [],
   "source": [
    "class FNOBlock2d(eqx.Module):\n",
    "    spectral_conv: SpectralConv2d\n",
    "    bypass_conv: eqx.nn.Conv2d\n",
    "    activation: Callable\n",
    "\n",
    "    def __init__(\n",
    "            self,\n",
    "            in_channels,\n",
    "            out_channels,\n",
    "            modes_x,\n",
    "            modes_y,\n",
    "            activation,\n",
    "            *,\n",
    "            key,\n",
    "    ):\n",
    "        spectral_conv_key, bypass_conv_key = jax.random.split(key)\n",
    "        self.spectral_conv = SpectralConv2d(\n",
    "            in_channels,\n",
    "            out_channels,\n",
    "            modes_x,   \n",
    "            modes_y,\n",
    "            key=spectral_conv_key,\n",
    "        )\n",
    "\n",
    "        self.bypass_conv = eqx.nn.Conv2d(\n",
    "            in_channels,\n",
    "            out_channels,\n",
    "            1,  # Kernel size is one\n",
    "            key=bypass_conv_key,\n",
    "        )\n",
    "        self.activation = activation\n",
    "\n",
    "    def __call__(\n",
    "            self,\n",
    "            x,\n",
    "    ):\n",
    "        return self.activation(\n",
    "            self.spectral_conv(x) + self.bypass_conv(x)\n",
    "        )\n",
    "    "
   ]
  },
  {
   "cell_type": "code",
   "execution_count": 5,
   "metadata": {},
   "outputs": [],
   "source": [
    "class FNO2d(eqx.Module):\n",
    "    lifting: eqx.nn.Conv2d\n",
    "    fno_blocks: List[FNOBlock2d]\n",
    "    projection: eqx.nn.Conv2d\n",
    "\n",
    "    def __init__(\n",
    "            self,\n",
    "            in_channels,\n",
    "            out_channels,\n",
    "            modes_x,\n",
    "            modes_y,\n",
    "            width,\n",
    "            activation,\n",
    "            n_blocks = 4,\n",
    "            *,\n",
    "            key,\n",
    "    ):\n",
    "        key, lifting_key = jax.random.split(key)\n",
    "        #lifting erhöht channel dim aber nicht spatial dim\n",
    "        self.lifting = eqx.nn.Conv2d(\n",
    "            in_channels,\n",
    "            width,\n",
    "            1,\n",
    "            key=lifting_key,\n",
    "        )\n",
    "\n",
    "        self.fno_blocks = []\n",
    "        for i in range(n_blocks):\n",
    "            key, subkey = jax.random.split(key)  #bedeutet das, jeder Block wird gleich initialisiert, weil immer gleicher key?\n",
    "            self.fno_blocks.append(FNOBlock2d(\n",
    "                width,\n",
    "                width,\n",
    "                modes_x,\n",
    "                modes_y,\n",
    "                activation,\n",
    "                key=subkey,\n",
    "            ))\n",
    "        #projection umgekehrt zu lifting\n",
    "        key, projection_key = jax.random.split(key)\n",
    "        self.projection = eqx.nn.Conv2d(\n",
    "            width,\n",
    "            out_channels,\n",
    "            1,\n",
    "            key=projection_key,\n",
    "        )\n",
    "    def __call__(\n",
    "            self,\n",
    "            x,\n",
    "    ):\n",
    "        x = self.lifting(x)\n",
    "\n",
    "        for fno_block in self.fno_blocks:\n",
    "            x = fno_block(x)\n",
    "\n",
    "        x = self.projection(x)\n",
    "\n",
    "        return x"
   ]
  },
  {
   "cell_type": "code",
   "execution_count": 42,
   "metadata": {},
   "outputs": [],
   "source": [
    "fno2d = FNO2d(\n",
    "    3,\n",
    "    1,\n",
    "    16,\n",
    "    16,\n",
    "    64,\n",
    "    jax.nn.relu,\n",
    "    key=jax.random.PRNGKey(0),\n",
    ")"
   ]
  },
  {
   "cell_type": "code",
   "execution_count": 7,
   "metadata": {},
   "outputs": [],
   "source": [
    "# creating the training data:"
   ]
  },
  {
   "cell_type": "code",
   "execution_count": 8,
   "metadata": {},
   "outputs": [],
   "source": [
    "def generate_correlated_lognormal_field(\n",
    "    key,\n",
    "    shape=(100, 100),\n",
    "    mean=1.0,\n",
    "    length_scale=0.1,\n",
    "    sigma_g=1.0,\n",
    "    percentile=99\n",
    "):\n",
    "    \"\"\"\n",
    "    Generate a 2D log-normal random field with spatial correlations.\n",
    "\n",
    "    Args:\n",
    "        key: JAX PRNG key.\n",
    "        shape: tuple (Nx, Ny) of field dimensions.\n",
    "        mean: desired mean of the real-space log-normal field.\n",
    "        length_scale: controls correlation (smaller = more small-scale structure).\n",
    "        sigma_g: std dev of the Gaussian log field (controls contrast).\n",
    "        percentile: used to return a mask of \"top X%\" regions.\n",
    "\n",
    "    Returns:\n",
    "        field: 2D log-normal field with spatial correlation and given mean.\n",
    "        top_mask: binary mask of top percentile pixels (e.g., top 1%)\n",
    "    \"\"\"\n",
    "    Nx, Ny = shape\n",
    "    key, subkey = random.split(key)\n",
    "\n",
    "    # --- Step 1: define k-space grid\n",
    "    kx = jnp.fft.fftfreq(Nx) / length_scale\n",
    "    ky = jnp.fft.fftfreq(Ny) / length_scale\n",
    "    kx_grid, ky_grid = jnp.meshgrid(kx, ky, indexing='ij')\n",
    "    k = jnp.sqrt(kx_grid**2 + ky_grid**2)\n",
    "\n",
    "    # --- Step 2: Power spectrum (Gaussian in log-k)\n",
    "    k0 = 1.0\n",
    "    log_k = jnp.log(jnp.clip(k, a_min=1e-6))  # avoid log(0)\n",
    "    log_k0 = jnp.log(k0)\n",
    "    sigma_k = 0.5\n",
    "    P_k = jnp.exp(-0.5 * ((log_k - log_k0) / sigma_k)**2)\n",
    "    P_k = P_k.at[0, 0].set(0.0)  # zero DC\n",
    "\n",
    "    # --- Step 3: Generate Gaussian field in Fourier space\n",
    "    phases = jnp.exp(2j * jnp.pi * random.uniform(subkey, (Nx, Ny)))\n",
    "    amplitude = jnp.sqrt(P_k)\n",
    "    fft_field = amplitude * phases\n",
    "\n",
    "    # Hermitian symmetry for real field\n",
    "    if Nx % 2 == 0:\n",
    "        fft_field = fft_field.at[Nx // 2, :].set(fft_field[Nx // 2, :].real)\n",
    "    if Ny % 2 == 0:\n",
    "        fft_field = fft_field.at[:, Ny // 2].set(fft_field[:, Ny // 2].real)\n",
    "    ix = jnp.arange(0, Nx // 2)\n",
    "    iy = jnp.arange(0, Ny // 2)\n",
    "    fft_field = fft_field.at[-ix[:, None], -iy[None, :]].set(jnp.conj(fft_field[ix[:, None], iy[None, :]]))\n",
    "\n",
    "    # --- Step 4: Inverse FFT → correlated Gaussian field\n",
    "    g = jnp.fft.ifft2(fft_field).real\n",
    "    g = (g - jnp.mean(g)) / jnp.std(g)  # normalize to mean=0, std=1\n",
    "    g = sigma_g * g\n",
    "\n",
    "    # --- Step 5: Exponentiate to log-normal\n",
    "    lognormal_field = jnp.exp(g)\n",
    "\n",
    "    # --- Step 6: Rescale to desired mean\n",
    "    current_mean = jnp.mean(lognormal_field)\n",
    "    field = lognormal_field * (mean / current_mean)\n",
    "\n",
    "    # --- Step 7: Create top-X% mask\n",
    "    threshold = jnp.percentile(field, percentile)\n",
    "    top_mask = field >= threshold\n",
    "\n",
    "    return field, top_mask\n",
    "\n"
   ]
  },
  {
   "cell_type": "code",
   "execution_count": 9,
   "metadata": {},
   "outputs": [],
   "source": [
    "def compute_intensity(\n",
    "        shape=(100, 100),\n",
    "        field=1,\n",
    "        sigma_value = 0.05\n",
    "        \n",
    "):\n",
    "    # Grid and parameters\n",
    "    #Nx, Ny = 100, 100\n",
    "    Nx, Ny = shape\n",
    "    Lx, Ly = 1.0, 1.0\n",
    "    dx, dy = Lx / Nx, Ly / Ny\n",
    "    x = np.linspace(0, Lx, Nx)\n",
    "    y = np.linspace(0, Ly, Ny)\n",
    "    X, Y = np.meshgrid(x, y, indexing='ij')\n",
    "\n",
    "    # Opacity and emissivity\n",
    "    kappa = field # 1.0 ## here your density field\n",
    "    j0 = 10.0\n",
    "    xc, yc = Lx / 2, Ly / 2\n",
    "    sigma = sigma_value # 0.05\n",
    "    j_emissivity = j0 * np.exp(-((X - xc)**2 + (Y - yc)**2) / (2 * sigma**2))\n",
    "\n",
    "    # Angular discretization\n",
    "    N_theta = 16\n",
    "    theta_list = np.linspace(0, 2 * np.pi, N_theta, endpoint=False)\n",
    "\n",
    "    # Storage for total intensity\n",
    "    J = np.zeros((Nx, Ny))\n",
    "\n",
    "\n",
    "    # Solve RTE for each angle\n",
    "    for theta in theta_list:\n",
    "        mu_x = np.cos(theta)\n",
    "        mu_y = np.sin(theta)\n",
    "        I = np.zeros((Nx, Ny))\n",
    "        \n",
    "        # Determine sweep order based on angle\n",
    "        i_range = range(Nx) if mu_x >= 0 else range(Nx - 1, -1, -1)\n",
    "        j_range = range(Ny) if mu_y >= 0 else range(Ny - 1, -1, -1)\n",
    "        \n",
    "        for i in i_range:\n",
    "            for j in j_range:\n",
    "                if (i - np.sign(mu_x) < 0 or i - np.sign(mu_x) >= Nx or\n",
    "                    j - np.sign(mu_y) < 0 or j - np.sign(mu_y) >= Ny):\n",
    "                    I_up_x = 0.0\n",
    "                    I_up_y = 0.0\n",
    "                else:\n",
    "                    I_up_x = I[int(i - np.sign(mu_x)), j]\n",
    "                    I_up_y = I[i, int(j - np.sign(mu_y))]\n",
    "                denom = abs(mu_x) / dx + abs(mu_y) / dy + kappa[i, j]\n",
    "                I_avg = (abs(mu_x) * I_up_x / dx + abs(mu_y) * I_up_y / dy) / denom\n",
    "                source = j_emissivity[i, j] / denom\n",
    "                I[i, j] = I_avg + source\n",
    "                #I = I.at[i,j].set(I_avg + source) -> use when using jnp instead of np\n",
    "        \n",
    "        J += I  # Accumulate for mean intensity\n",
    "\n",
    "    # Compute mean intensity\n",
    "    J /= N_theta\n",
    "    return J.T \n",
    "\n",
    "# I can make this more efficient by vmapping of theta in theta list and by using fori_loop instead of normal loops \n",
    "# with this I can than also vmap the whole function (jit too)"
   ]
  },
  {
   "cell_type": "code",
   "execution_count": 10,
   "metadata": {},
   "outputs": [],
   "source": [
    "def create_data(\n",
    "        key,\n",
    "        shape=(100, 100),\n",
    "        mean=1.0,\n",
    "        length_scale=0.1,\n",
    "        sigma_g=1.0,\n",
    "        percentile=99,\n",
    "        sigma=0.05\n",
    "):\n",
    "    \n",
    "    field, mask = generate_correlated_lognormal_field(key, shape, mean, length_scale, sigma_g, percentile)  # maybe don't use as parameters but instead initialize specific parameters in function randomly \n",
    "    intensity = compute_intensity(shape, field, sigma)\n",
    "\n",
    "    return field, mask, intensity\n",
    "# should also return the r-grid since this will also be used as input for the network  \n",
    "\n",
    "\n",
    "\n",
    "# check, if it is necessary to speed up the RTE (and than vmap also create_data) - if so there are some comments above how to speed it up"
   ]
  },
  {
   "cell_type": "code",
   "execution_count": 14,
   "metadata": {},
   "outputs": [
    {
     "name": "stdout",
     "output_type": "stream",
     "text": [
      "0/150\n",
      "10/150\n",
      "20/150\n",
      "30/150\n",
      "40/150\n",
      "50/150\n",
      "60/150\n",
      "70/150\n",
      "80/150\n",
      "90/150\n",
      "100/150\n",
      "110/150\n",
      "120/150\n",
      "130/150\n",
      "140/150\n"
     ]
    }
   ],
   "source": [
    "key = random.PRNGKey(0)\n",
    "keys = random.split(key, 150)\n",
    "key2 = random.PRNGKey(1) \n",
    "keys2 = random.split(key2, 3)\n",
    "\n",
    "length_scales = random.uniform(keys2[0], shape=(150,), minval=0.1, maxval=10.0)\n",
    "sigma_gs = random.uniform(keys2[1], shape=(150,), minval=0.1, maxval=2.0)\n",
    "sigmas = jnp.ones(shape=(150,)) * 0.05\n",
    "#sigmas = random.uniform(keys2[2], shape=(3,), minval=0.03, maxval=0.07)\n",
    "\n",
    "results = []\n",
    "i = 0\n",
    "for k, l, sg, s in zip(keys, length_scales, sigma_gs, sigmas):\n",
    "    result = create_data(k, (100,100), 1.0, l, sg, 99, s)\n",
    "    #result = create_data(key, (100,100), 1.0, 0.1, 1.5, 99, 0.05) # testing\n",
    "    results.append(result)\n",
    "    if i%10 == 0:\n",
    "        print(f\"{i}/{len(length_scales)}\")\n",
    "    i += 1"
   ]
  },
  {
   "cell_type": "code",
   "execution_count": null,
   "metadata": {},
   "outputs": [],
   "source": []
  },
  {
   "cell_type": "code",
   "execution_count": 29,
   "metadata": {},
   "outputs": [
    {
     "data": {
      "text/plain": [
       "(100, 1, 100, 100)"
      ]
     },
     "execution_count": 29,
     "metadata": {},
     "output_type": "execute_result"
    }
   ],
   "source": [
    "data_x =  jnp.array([result[0] for result in results])\n",
    "data_x = data_x[:, jnp.newaxis, :, :]\n",
    "x = jnp.linspace(0, 1, 100)   # adapt s.t. it is created based on length of results \n",
    "X, Y = jnp.meshgrid(x, x)\n",
    "X_shape_corrected = jnp.repeat(X[jnp.newaxis, jnp.newaxis, :], data_x.shape[0], axis=0)\n",
    "Y_shape_corrected = jnp.repeat(Y[jnp.newaxis, jnp.newaxis, :], data_x.shape[0], axis=0)\n",
    "data_x_with_mesh = jnp.concatenate((data_x, X_shape_corrected, Y_shape_corrected), axis=1)\n",
    "\n",
    "data_y =  jnp.array([result[2] for result in results])\n",
    "data_y = data_y[:, jnp.newaxis, :, :]\n",
    "\n",
    "\n",
    "train_x, test_x = data_x_with_mesh[:100], data_x_with_mesh[100:150]  \n",
    "train_y, test_y = data_y[:100], data_y[100:150]\n",
    "\n"
   ]
  },
  {
   "cell_type": "code",
   "execution_count": 43,
   "metadata": {},
   "outputs": [],
   "source": [
    "def dataloader(\n",
    "    key,\n",
    "    dataset_x,\n",
    "    dataset_y,\n",
    "    batch_size,\n",
    "):\n",
    "    n_samples = dataset_x.shape[0]\n",
    "\n",
    "    n_batches = int(jnp.ceil(n_samples / batch_size))\n",
    "\n",
    "    permutation = jax.random.permutation(key, n_samples)\n",
    "\n",
    "    for batch_id in range(n_batches):\n",
    "        start = batch_id * batch_size\n",
    "        end = min((batch_id + 1) * batch_size, n_samples)\n",
    "\n",
    "        batch_indices = permutation[start:end]\n",
    "\n",
    "        yield dataset_x[batch_indices], dataset_y[batch_indices]"
   ]
  },
  {
   "cell_type": "code",
   "execution_count": 44,
   "metadata": {},
   "outputs": [
    {
     "data": {
      "application/vnd.jupyter.widget-view+json": {
       "model_id": "6d9e6ea83c9140a38efcccc1323becc2",
       "version_major": 2,
       "version_minor": 0
      },
      "text/plain": [
       "  0%|          | 0/100 [00:00<?, ?it/s]"
      ]
     },
     "metadata": {},
     "output_type": "display_data"
    }
   ],
   "source": [
    "def loss_fn(model, x, y):\n",
    "    y_pred = jax.vmap(model)(x)\n",
    "    loss = jnp.mean(jnp.square(y_pred - y))\n",
    "    return loss\n",
    "\n",
    "optimizer = optax.adam(3e-4)\n",
    "opt_state = optimizer.init(eqx.filter(fno2d, eqx.is_array))\n",
    "\n",
    "@eqx.filter_jit   #was bedeutet das?\n",
    "def make_step(model, state, x, y):\n",
    "    loss, grad = eqx.filter_value_and_grad(loss_fn)(model, x, y)\n",
    "    val_loss = loss_fn(model, test_x, test_y)\n",
    "    updates, new_state = optimizer.update(grad, state, model)\n",
    "    new_model = eqx.apply_updates(model, updates)\n",
    "    return new_model, new_state, loss, val_loss\n",
    "\n",
    "loss_history = []\n",
    "val_loss_history = []\n",
    "\n",
    "shuffle_key = jax.random.PRNGKey(10)\n",
    "for epoch in tqdm(range(100)):\n",
    "    shuffle_key, subkey = jax.random.split(shuffle_key)\n",
    "    for (batch_x, batch_y) in dataloader(\n",
    "        subkey,\n",
    "        train_x,   # maybe check if reduced resolution also works\n",
    "        train_y,\n",
    "        batch_size=10,\n",
    "    ):\n",
    "        fno2d, opt_state, loss, val_loss = make_step(fno2d, opt_state, batch_x, batch_y)\n",
    "        loss_history.append(loss)\n",
    "        val_loss_history.append(val_loss)"
   ]
  },
  {
   "cell_type": "code",
   "execution_count": 45,
   "metadata": {},
   "outputs": [
    {
     "data": {
      "image/png": "[encoded data removed]",
      "text/plain": [
       "<Figure size 640x480 with 1 Axes>"
      ]
     },
     "metadata": {},
     "output_type": "display_data"
    }
   ],
   "source": [
    "plt.plot(loss_history, label=\"train loss\")\n",
    "plt.plot(val_loss_history, label=\"val loss\")\n",
    "plt.legend()\n",
    "plt.yscale(\"log\")\n",
    "plt.grid()"
   ]
  },
  {
   "cell_type": "code",
   "execution_count": 53,
   "metadata": {},
   "outputs": [
    {
     "data": {
      "image/png": "[encoded data removed]",
      "text/plain": [
       "<Figure size 640x480 with 1 Axes>"
      ]
     },
     "metadata": {},
     "output_type": "display_data"
    }
   ],
   "source": [
    "plt.imshow(fno2d(test_x[1, :, :, :])[0], origin='lower', extent=[0, 1, 0, 1,], aspect='auto', cmap='inferno')\n",
    "plt.show()"
   ]
  },
  {
   "cell_type": "code",
   "execution_count": 54,
   "metadata": {},
   "outputs": [
    {
     "data": {
      "image/png": "[encoded data removed]",
      "text/plain": [
       "<Figure size 640x480 with 1 Axes>"
      ]
     },
     "metadata": {},
     "output_type": "display_data"
    }
   ],
   "source": [
    "plt.imshow(test_y[1, 0, :, :], origin='lower', extent=[0, 1, 0, 1,], aspect='auto', cmap='inferno')\n",
    "plt.show()"
   ]
  },
  {
   "cell_type": "code",
   "execution_count": null,
   "metadata": {},
   "outputs": [],
   "source": []
  }
 ],
 "metadata": {
  "kernelspec": {
   "display_name": "RadiativeTransferEnv",
   "language": "python",
   "name": "python3"
  },
  "language_info": {
   "codemirror_mode": {
    "name": "ipython",
    "version": 3
   },
   "file_extension": ".py",
   "mimetype": "text/x-python",
   "name": "python",
   "nbconvert_exporter": "python",
   "pygments_lexer": "ipython3",
   "version": "3.11.11"
  }
 },
 "nbformat": 4,
 "nbformat_minor": 2
}
